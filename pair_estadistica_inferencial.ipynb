{
 "cells": [
  {
   "cell_type": "markdown",
   "metadata": {},
   "source": [
    "1.Igual que en los ejercicios de la clase invertida, evalúa si las siguientes afirmaciones corresponden a una distribución exponencial o poisson.\n",
    "¿El tiempo que transcurre entre la llegada de autobuses a una parada sigue una distribución exponencial o de Poisson?"
   ]
  },
  {
   "cell_type": "markdown",
   "metadata": {},
   "source": [
    "Es distribución exponencial, ya que es el que mide el tiempo que ocurre entre un evento y otro"
   ]
  },
  {
   "cell_type": "markdown",
   "metadata": {},
   "source": [
    "¿El número de errores en un artículo de noticias sigue una distribución exponencial o de Poisson? \n",
    "\n",
    "Sigue una distribución de Poisson ya que está midiendo el número de veces que ocurre un evento (en este caso, un error)"
   ]
  },
  {
   "cell_type": "markdown",
   "metadata": {},
   "source": [
    "¿El tiempo que transcurre entre la llegada de solicitudes de servicio en un restaurante sigue una distribución exponencial o de Poisson?\n",
    "\n",
    "Sigue una distribución exponencial"
   ]
  },
  {
   "cell_type": "markdown",
   "metadata": {},
   "source": [
    "¿El número de accidentes de tráfico en una hora en una ciudad sigue una distribución exponencial o de Poisson?\n",
    "\n",
    "Distribución Poisson"
   ]
  },
  {
   "cell_type": "markdown",
   "metadata": {},
   "source": [
    "¿El tiempo entre llegadas de llamadas telefónicas a una central de emergencias sigue una distribución exponencial o de Poisson?\n",
    "\n",
    "Distribución Exponencial"
   ]
  },
  {
   "cell_type": "markdown",
   "metadata": {},
   "source": [
    "¿El número de clientes que ingresan a una tienda en una hora sigue una distribución exponencial o de Poisson?\n",
    "\n",
    "Distribución Poisson"
   ]
  },
  {
   "cell_type": "markdown",
   "metadata": {},
   "source": [
    "¿El tiempo entre llegadas de correos electrónicos en una bandeja de entrada sigue una distribución exponencial o de Poisson?\n",
    "\n",
    "Distribución exponencial"
   ]
  },
  {
   "cell_type": "markdown",
   "metadata": {},
   "source": [
    "¿El número de defectos en una línea de producción por día sigue una distribución exponencial o de Poisson?\n",
    "\n",
    "Distribución Poisson"
   ]
  },
  {
   "cell_type": "markdown",
   "metadata": {},
   "source": [
    "¿El tiempo que transcurre entre la llegada de taxis en una parada sigue una distribución exponencial o de Poisson?\n",
    "\n",
    "Distribución Exponencial"
   ]
  },
  {
   "cell_type": "markdown",
   "metadata": {},
   "source": [
    "¿El número de errores de ortografía en un libro de texto sigue una distribución exponencial o de Poisson?\n",
    "\n",
    "Distribución Poisson"
   ]
  },
  {
   "cell_type": "markdown",
   "metadata": {},
   "source": [
    "2.Ejercicios intervalo de confianza. Al igual que en el caso del ejercicio de la clase invertida, piensa un motivo por el que sería interesante calcular estos intervalos de confianza para la extracción de insights.\n",
    "\n",
    "Intervalo de Confianza para la Esperanza de Vida\n",
    "Contexto: Trabajas en una organización de salud global y deseas estimar el intervalo de confianza al 95% para la esperanza de vida promedio de cada continente.\n",
    "Nota: Cuidado porque puede que os salgan algunos nulos, genera un código para que no salgan nulos en los intervalos de confianza."
   ]
  },
  {
   "cell_type": "code",
   "execution_count": 25,
   "metadata": {},
   "outputs": [],
   "source": [
    "import pandas as pd\n",
    "import numpy as np\n",
    "import matplotlib.pyplot as plt\n",
    "import seaborn as sns\n",
    "import scipy.stats as stats\n",
    "from scipy.stats import shapiro,  poisson, chisquare, expon, kstest\n",
    "pd.set_option('display.max_columns', None)\n",
    "import warnings\n",
    "warnings.filterwarnings(\"ignore\")\n",
    "from scipy import stats"
   ]
  },
  {
   "cell_type": "code",
   "execution_count": 2,
   "metadata": {},
   "outputs": [],
   "source": [
    "df = pd.read_csv('world_data_notnull.csv', index_col = 0)"
   ]
  },
  {
   "cell_type": "code",
   "execution_count": 4,
   "metadata": {},
   "outputs": [
    {
     "name": "stdout",
     "output_type": "stream",
     "text": [
      "Intervalo de Confianza para la esperanza de vida:\n",
      "Media Muestral: 72.38\n",
      "Error Estándar: 0.53\n",
      "Nivel de Confianza: 0.95\n",
      "Valor Crítico: 1.97\n",
      "Intervalo de Confianza: (71.33, 73.42)\n"
     ]
    }
   ],
   "source": [
    "media_vida = df['life_expectancy'].mean()\n",
    "error_vida = stats.sem(df['life_expectancy'])\n",
    "nivel_confianza = 0.95\n",
    "grados_libertad = len(df['life_expectancy']) -1\n",
    "valor_critico = stats.t.ppf((1+nivel_confianza)/2,df=grados_libertad)\n",
    "limite_inferior = media_vida - valor_critico * error_vida\n",
    "limite_superior = media_vida + valor_critico * error_vida\n",
    "\n",
    "print(\"Intervalo de Confianza para la esperanza de vida:\")\n",
    "print(f\"Media Muestral: {np.round(media_vida, 2)}\")\n",
    "print(f\"Error Estándar: {np.round(error_vida, 2)}\")\n",
    "print(f\"Nivel de Confianza: {nivel_confianza}\")\n",
    "print(f\"Valor Crítico: {np.round(valor_critico, 2)}\")\n",
    "print(f\"Intervalo de Confianza: ({np.round(limite_inferior, 2)}, {np.round(limite_superior, 2)})\")\n"
   ]
  },
  {
   "cell_type": "markdown",
   "metadata": {},
   "source": [
    "Los resultados indican que con un 95% de confianza, la esperanza de vida estaría entre 71 y 73 años"
   ]
  },
  {
   "cell_type": "markdown",
   "metadata": {},
   "source": [
    "Intervalo de Confianza para el PIB\n",
    "Contexto: Eres una economista y quieres calcular el intervalo de confianza al 90% para el Producto Interno Bruto (PIB) de los continentes."
   ]
  },
  {
   "cell_type": "code",
   "execution_count": 32,
   "metadata": {},
   "outputs": [
    {
     "name": "stdout",
     "output_type": "stream",
     "text": [
      "Intervalo de Confianza para la esperanza de vida:\n",
      "Media Muestral: 477295901399.54\n",
      "Error Estándar: 156356459750.61\n",
      "Nivel de Confianza: 0.9\n",
      "Valor Crítico: 1.65\n",
      "Intervalo de Confianza: (218878391528.32, 735713411270.76)\n"
     ]
    }
   ],
   "source": [
    "media_pib = df['gdp'].mean()\n",
    "error_pib = stats.sem(df['gdp'],nan_policy='omit')\n",
    "nivel_confianza_pib = 0.90\n",
    "grados_libertad_pib = len(df['gdp']) -1\n",
    "valor_critico_pib = stats.t.ppf((1+nivel_confianza_pib)/2,df=grados_libertad_pib)\n",
    "limite_inferior_pib = media_pib - valor_critico_pib * error_pib\n",
    "limite_superior_pib = media_pib + valor_critico_pib * error_pib\n",
    "\n",
    "print(\"Intervalo de Confianza para la esperanza de vida:\")\n",
    "print(f\"Media Muestral: {np.round(media_pib, 2)}\")\n",
    "print(f\"Error Estándar: {np.round(error_pib, 2)}\")\n",
    "print(f\"Nivel de Confianza: {nivel_confianza_pib}\")\n",
    "print(f\"Valor Crítico: {np.round(valor_critico_pib, 2)}\")\n",
    "print(f\"Intervalo de Confianza: ({np.round(limite_inferior_pib, 2)}, {np.round(limite_superior_pib, 2)})\")"
   ]
  },
  {
   "cell_type": "markdown",
   "metadata": {},
   "source": [
    "Intervalo de Confianza para la Tasa de Natalidad\n",
    "Contexto: Trabajas en una agencia gubernamental que se ocupa de cuestiones demográficas y deseas determinar el intervalo de confianza al 99% para la tasa de natalidad promedio en Asia."
   ]
  },
  {
   "cell_type": "code",
   "execution_count": null,
   "metadata": {},
   "outputs": [],
   "source": [
    "asia = df.groupby('continent')['Asia']\n",
    "asia('bir')"
   ]
  }
 ],
 "metadata": {
  "kernelspec": {
   "display_name": "base",
   "language": "python",
   "name": "python3"
  },
  "language_info": {
   "codemirror_mode": {
    "name": "ipython",
    "version": 3
   },
   "file_extension": ".py",
   "mimetype": "text/x-python",
   "name": "python",
   "nbconvert_exporter": "python",
   "pygments_lexer": "ipython3",
   "version": "3.9.7"
  }
 },
 "nbformat": 4,
 "nbformat_minor": 2
}
