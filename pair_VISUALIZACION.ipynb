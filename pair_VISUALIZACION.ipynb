{
 "cells": [
  {
   "cell_type": "code",
   "execution_count": 1,
   "metadata": {},
   "outputs": [],
   "source": [
    "import matplotlib.pyplot as plt\n",
    "import seaborn as sns\n"
   ]
  },
  {
   "cell_type": "code",
   "execution_count": 3,
   "metadata": {},
   "outputs": [],
   "source": [
    "import pandas as pd\n",
    "import numpy as np"
   ]
  },
  {
   "cell_type": "code",
   "execution_count": 7,
   "metadata": {},
   "outputs": [
    {
     "data": {
      "text/html": [
       "<div>\n",
       "<style scoped>\n",
       "    .dataframe tbody tr th:only-of-type {\n",
       "        vertical-align: middle;\n",
       "    }\n",
       "\n",
       "    .dataframe tbody tr th {\n",
       "        vertical-align: top;\n",
       "    }\n",
       "\n",
       "    .dataframe thead th {\n",
       "        text-align: right;\n",
       "    }\n",
       "</style>\n",
       "<table border=\"1\" class=\"dataframe\">\n",
       "  <thead>\n",
       "    <tr style=\"text-align: right;\">\n",
       "      <th></th>\n",
       "      <th>unnamed 0_x</th>\n",
       "      <th>country</th>\n",
       "      <th>density</th>\n",
       "      <th>abbreviation</th>\n",
       "      <th>birth rate</th>\n",
       "      <th>calling code</th>\n",
       "      <th>capital/major city</th>\n",
       "      <th>co2-emissions</th>\n",
       "      <th>cpi</th>\n",
       "      <th>cpi change</th>\n",
       "      <th>currency-code</th>\n",
       "      <th>fertility rate</th>\n",
       "      <th>forested area</th>\n",
       "      <th>gasoline price</th>\n",
       "      <th>unnamed 0_y</th>\n",
       "      <th>gdp</th>\n",
       "      <th>gross primary education enrollment</th>\n",
       "      <th>gross tertiary education enrollment</th>\n",
       "      <th>infant mortality</th>\n",
       "      <th>largest city</th>\n",
       "      <th>life expectancy</th>\n",
       "      <th>maternal mortality ratio</th>\n",
       "      <th>minimum wage</th>\n",
       "      <th>official language</th>\n",
       "      <th>out of pocket health expenditure</th>\n",
       "      <th>physicians per thousand</th>\n",
       "      <th>population</th>\n",
       "      <th>population labor force participation</th>\n",
       "      <th>tax revenue</th>\n",
       "      <th>total tax rate</th>\n",
       "      <th>unemployment rate</th>\n",
       "      <th>urban_population</th>\n",
       "      <th>latitud</th>\n",
       "      <th>longitud</th>\n",
       "      <th>continente</th>\n",
       "      <th>agriculture_land</th>\n",
       "      <th>land_area</th>\n",
       "      <th>armed_forces_size</th>\n",
       "    </tr>\n",
       "  </thead>\n",
       "  <tbody>\n",
       "    <tr>\n",
       "      <th>0</th>\n",
       "      <td>0</td>\n",
       "      <td>Afghanistan</td>\n",
       "      <td>60.0</td>\n",
       "      <td>AF</td>\n",
       "      <td>32.49</td>\n",
       "      <td>93.0</td>\n",
       "      <td>Kabul</td>\n",
       "      <td>8672.0</td>\n",
       "      <td>149.90</td>\n",
       "      <td>2.3</td>\n",
       "      <td>AFN</td>\n",
       "      <td>4.47</td>\n",
       "      <td>2.1</td>\n",
       "      <td>0.70</td>\n",
       "      <td>0</td>\n",
       "      <td>1.910135e+10</td>\n",
       "      <td>104.0</td>\n",
       "      <td>9.7</td>\n",
       "      <td>47.9</td>\n",
       "      <td>Kabul</td>\n",
       "      <td>64.5</td>\n",
       "      <td>638.0</td>\n",
       "      <td>0.43</td>\n",
       "      <td>Pashto</td>\n",
       "      <td>78.4</td>\n",
       "      <td>0.28</td>\n",
       "      <td>38041754.0</td>\n",
       "      <td>48.9</td>\n",
       "      <td>9.3</td>\n",
       "      <td>71.4</td>\n",
       "      <td>11.12</td>\n",
       "      <td>9797273.0</td>\n",
       "      <td>NaN</td>\n",
       "      <td>NaN</td>\n",
       "      <td>Asia</td>\n",
       "      <td>58.1</td>\n",
       "      <td>652230.0</td>\n",
       "      <td>323000.000000</td>\n",
       "    </tr>\n",
       "    <tr>\n",
       "      <th>1</th>\n",
       "      <td>1</td>\n",
       "      <td>Albania</td>\n",
       "      <td>105.0</td>\n",
       "      <td>AL</td>\n",
       "      <td>11.78</td>\n",
       "      <td>355.0</td>\n",
       "      <td>Tirana</td>\n",
       "      <td>4536.0</td>\n",
       "      <td>119.05</td>\n",
       "      <td>1.4</td>\n",
       "      <td>ALL</td>\n",
       "      <td>1.62</td>\n",
       "      <td>28.1</td>\n",
       "      <td>1.36</td>\n",
       "      <td>1</td>\n",
       "      <td>1.527808e+10</td>\n",
       "      <td>107.0</td>\n",
       "      <td>55.0</td>\n",
       "      <td>7.8</td>\n",
       "      <td>Tirana</td>\n",
       "      <td>78.5</td>\n",
       "      <td>15.0</td>\n",
       "      <td>1.12</td>\n",
       "      <td>Albanian</td>\n",
       "      <td>56.9</td>\n",
       "      <td>1.20</td>\n",
       "      <td>2854191.0</td>\n",
       "      <td>55.7</td>\n",
       "      <td>18.6</td>\n",
       "      <td>36.6</td>\n",
       "      <td>12.33</td>\n",
       "      <td>1747593.0</td>\n",
       "      <td>NaN</td>\n",
       "      <td>NaN</td>\n",
       "      <td>Europa</td>\n",
       "      <td>43.1</td>\n",
       "      <td>28748.0</td>\n",
       "      <td>9000.000000</td>\n",
       "    </tr>\n",
       "    <tr>\n",
       "      <th>2</th>\n",
       "      <td>2</td>\n",
       "      <td>Algeria</td>\n",
       "      <td>18.0</td>\n",
       "      <td>DZ</td>\n",
       "      <td>24.28</td>\n",
       "      <td>213.0</td>\n",
       "      <td>Algiers</td>\n",
       "      <td>150006.0</td>\n",
       "      <td>151.36</td>\n",
       "      <td>2.0</td>\n",
       "      <td>DZD</td>\n",
       "      <td>3.02</td>\n",
       "      <td>0.8</td>\n",
       "      <td>0.28</td>\n",
       "      <td>2</td>\n",
       "      <td>1.699882e+11</td>\n",
       "      <td>109.9</td>\n",
       "      <td>51.4</td>\n",
       "      <td>20.1</td>\n",
       "      <td>Algiers</td>\n",
       "      <td>76.7</td>\n",
       "      <td>112.0</td>\n",
       "      <td>0.95</td>\n",
       "      <td>Arabic</td>\n",
       "      <td>28.1</td>\n",
       "      <td>1.72</td>\n",
       "      <td>43053054.0</td>\n",
       "      <td>41.2</td>\n",
       "      <td>37.2</td>\n",
       "      <td>66.1</td>\n",
       "      <td>11.70</td>\n",
       "      <td>31510100.0</td>\n",
       "      <td>NaN</td>\n",
       "      <td>NaN</td>\n",
       "      <td>África</td>\n",
       "      <td>17.4</td>\n",
       "      <td>2381741.0</td>\n",
       "      <td>317000.000000</td>\n",
       "    </tr>\n",
       "    <tr>\n",
       "      <th>3</th>\n",
       "      <td>3</td>\n",
       "      <td>Andorra</td>\n",
       "      <td>164.0</td>\n",
       "      <td>AD</td>\n",
       "      <td>7.20</td>\n",
       "      <td>376.0</td>\n",
       "      <td>Andorra la Vella</td>\n",
       "      <td>469.0</td>\n",
       "      <td>NaN</td>\n",
       "      <td>NaN</td>\n",
       "      <td>EUR</td>\n",
       "      <td>1.27</td>\n",
       "      <td>34.0</td>\n",
       "      <td>1.51</td>\n",
       "      <td>3</td>\n",
       "      <td>3.154058e+09</td>\n",
       "      <td>106.4</td>\n",
       "      <td>NaN</td>\n",
       "      <td>2.7</td>\n",
       "      <td>Andorra la Vella</td>\n",
       "      <td>NaN</td>\n",
       "      <td>NaN</td>\n",
       "      <td>6.63</td>\n",
       "      <td>Catalan</td>\n",
       "      <td>36.4</td>\n",
       "      <td>3.33</td>\n",
       "      <td>77142.0</td>\n",
       "      <td>NaN</td>\n",
       "      <td>NaN</td>\n",
       "      <td>NaN</td>\n",
       "      <td>NaN</td>\n",
       "      <td>67873.0</td>\n",
       "      <td>NaN</td>\n",
       "      <td>NaN</td>\n",
       "      <td>Europa</td>\n",
       "      <td>40.0</td>\n",
       "      <td>468.0</td>\n",
       "      <td>79521.131723</td>\n",
       "    </tr>\n",
       "    <tr>\n",
       "      <th>4</th>\n",
       "      <td>4</td>\n",
       "      <td>Angola</td>\n",
       "      <td>26.0</td>\n",
       "      <td>AO</td>\n",
       "      <td>40.73</td>\n",
       "      <td>244.0</td>\n",
       "      <td>Luanda</td>\n",
       "      <td>34693.0</td>\n",
       "      <td>261.73</td>\n",
       "      <td>17.1</td>\n",
       "      <td>AOA</td>\n",
       "      <td>5.52</td>\n",
       "      <td>46.3</td>\n",
       "      <td>0.97</td>\n",
       "      <td>4</td>\n",
       "      <td>9.463542e+10</td>\n",
       "      <td>113.5</td>\n",
       "      <td>9.3</td>\n",
       "      <td>51.6</td>\n",
       "      <td>Luanda</td>\n",
       "      <td>60.8</td>\n",
       "      <td>241.0</td>\n",
       "      <td>0.71</td>\n",
       "      <td>Portuguese</td>\n",
       "      <td>33.4</td>\n",
       "      <td>0.21</td>\n",
       "      <td>31825295.0</td>\n",
       "      <td>77.5</td>\n",
       "      <td>9.2</td>\n",
       "      <td>49.1</td>\n",
       "      <td>6.89</td>\n",
       "      <td>21061025.0</td>\n",
       "      <td>NaN</td>\n",
       "      <td>NaN</td>\n",
       "      <td>África</td>\n",
       "      <td>47.5</td>\n",
       "      <td>1246700.0</td>\n",
       "      <td>117000.000000</td>\n",
       "    </tr>\n",
       "  </tbody>\n",
       "</table>\n",
       "</div>"
      ],
      "text/plain": [
       "   unnamed 0_x      country  density abbreviation  birth rate  calling code  \\\n",
       "0            0  Afghanistan     60.0           AF       32.49          93.0   \n",
       "1            1      Albania    105.0           AL       11.78         355.0   \n",
       "2            2      Algeria     18.0           DZ       24.28         213.0   \n",
       "3            3      Andorra    164.0           AD        7.20         376.0   \n",
       "4            4       Angola     26.0           AO       40.73         244.0   \n",
       "\n",
       "  capital/major city  co2-emissions     cpi  cpi change currency-code  \\\n",
       "0              Kabul         8672.0  149.90         2.3           AFN   \n",
       "1             Tirana         4536.0  119.05         1.4           ALL   \n",
       "2            Algiers       150006.0  151.36         2.0           DZD   \n",
       "3   Andorra la Vella          469.0     NaN         NaN           EUR   \n",
       "4             Luanda        34693.0  261.73        17.1           AOA   \n",
       "\n",
       "   fertility rate  forested area  gasoline price  unnamed 0_y           gdp  \\\n",
       "0            4.47            2.1            0.70            0  1.910135e+10   \n",
       "1            1.62           28.1            1.36            1  1.527808e+10   \n",
       "2            3.02            0.8            0.28            2  1.699882e+11   \n",
       "3            1.27           34.0            1.51            3  3.154058e+09   \n",
       "4            5.52           46.3            0.97            4  9.463542e+10   \n",
       "\n",
       "   gross primary education enrollment  gross tertiary education enrollment  \\\n",
       "0                               104.0                                  9.7   \n",
       "1                               107.0                                 55.0   \n",
       "2                               109.9                                 51.4   \n",
       "3                               106.4                                  NaN   \n",
       "4                               113.5                                  9.3   \n",
       "\n",
       "   infant mortality      largest city  life expectancy  \\\n",
       "0              47.9             Kabul             64.5   \n",
       "1               7.8            Tirana             78.5   \n",
       "2              20.1           Algiers             76.7   \n",
       "3               2.7  Andorra la Vella              NaN   \n",
       "4              51.6            Luanda             60.8   \n",
       "\n",
       "   maternal mortality ratio  minimum wage official language  \\\n",
       "0                     638.0          0.43            Pashto   \n",
       "1                      15.0          1.12          Albanian   \n",
       "2                     112.0          0.95            Arabic   \n",
       "3                       NaN          6.63           Catalan   \n",
       "4                     241.0          0.71        Portuguese   \n",
       "\n",
       "   out of pocket health expenditure  physicians per thousand  population  \\\n",
       "0                              78.4                     0.28  38041754.0   \n",
       "1                              56.9                     1.20   2854191.0   \n",
       "2                              28.1                     1.72  43053054.0   \n",
       "3                              36.4                     3.33     77142.0   \n",
       "4                              33.4                     0.21  31825295.0   \n",
       "\n",
       "   population labor force participation  tax revenue  total tax rate  \\\n",
       "0                                  48.9          9.3            71.4   \n",
       "1                                  55.7         18.6            36.6   \n",
       "2                                  41.2         37.2            66.1   \n",
       "3                                   NaN          NaN             NaN   \n",
       "4                                  77.5          9.2            49.1   \n",
       "\n",
       "   unemployment rate  urban_population  latitud  longitud continente  \\\n",
       "0              11.12         9797273.0      NaN       NaN       Asia   \n",
       "1              12.33         1747593.0      NaN       NaN     Europa   \n",
       "2              11.70        31510100.0      NaN       NaN     África   \n",
       "3                NaN           67873.0      NaN       NaN     Europa   \n",
       "4               6.89        21061025.0      NaN       NaN     África   \n",
       "\n",
       "   agriculture_land  land_area  armed_forces_size  \n",
       "0              58.1   652230.0      323000.000000  \n",
       "1              43.1    28748.0        9000.000000  \n",
       "2              17.4  2381741.0      317000.000000  \n",
       "3              40.0      468.0       79521.131723  \n",
       "4              47.5  1246700.0      117000.000000  "
      ]
     },
     "execution_count": 7,
     "metadata": {},
     "output_type": "execute_result"
    }
   ],
   "source": [
    "df = pd.read_csv('pair_nulos.csv')\n",
    "\n",
    "pd.set_option('display.max_columns', None)\n",
    "\n",
    "df.head()"
   ]
  },
  {
   "cell_type": "markdown",
   "metadata": {},
   "source": [
    "¿Cómo se distribuye la tasa de natalidad en el conjunto de datos? ¿Hay algún patrón evidente?"
   ]
  },
  {
   "cell_type": "code",
   "execution_count": 12,
   "metadata": {},
   "outputs": [
    {
     "data": {
      "image/png": "[encoded data removed]",
      "text/plain": [
       "<Figure size 432x288 with 1 Axes>"
      ]
     },
     "metadata": {
      "needs_background": "light"
     },
     "output_type": "display_data"
    }
   ],
   "source": [
    "sns.histplot(x='birth rate', data = df, bins=30, color='pink')\n",
    "plt.xlabel('tasa de natalidad')\n",
    "plt.ylabel('valores')\n",
    "plt.title('Distribución tasa de natalidad');\n"
   ]
  },
  {
   "cell_type": "markdown",
   "metadata": {},
   "source": [
    "La tasa de natalidad mayor está entre 10 y 12"
   ]
  },
  {
   "cell_type": "code",
   "execution_count": 13,
   "metadata": {},
   "outputs": [
    {
     "data": {
      "text/plain": [
       "Index(['unnamed 0_x', 'country', 'density', 'abbreviation', 'birth rate',\n",
       "       'calling code', 'capital/major city', 'co2-emissions', 'cpi',\n",
       "       'cpi change', 'currency-code', 'fertility rate', 'forested area',\n",
       "       'gasoline price', 'unnamed 0_y', 'gdp',\n",
       "       'gross primary education enrollment',\n",
       "       'gross tertiary education enrollment', 'infant mortality',\n",
       "       'largest city', 'life expectancy', 'maternal mortality ratio',\n",
       "       'minimum wage', 'official language', 'out of pocket health expenditure',\n",
       "       'physicians per thousand', 'population',\n",
       "       'population labor force participation', 'tax revenue', 'total tax rate',\n",
       "       'unemployment rate', 'urban_population', 'latitud', 'longitud',\n",
       "       'continente', 'agriculture_land', 'land_area', 'armed_forces_size'],\n",
       "      dtype='object')"
      ]
     },
     "execution_count": 13,
     "metadata": {},
     "output_type": "execute_result"
    }
   ],
   "source": [
    "df.columns"
   ]
  },
  {
   "cell_type": "markdown",
   "metadata": {},
   "source": [
    "¿Existe una relación aparente entre la tasa de mortalidad infantil y la esperanza de vida? Proporciona una breve descripción de los patrones que observes."
   ]
  },
  {
   "cell_type": "code",
   "execution_count": 19,
   "metadata": {},
   "outputs": [
    {
     "data": {
      "image/png": "[encoded data removed]",
      "text/plain": [
       "<Figure size 432x288 with 1 Axes>"
      ]
     },
     "metadata": {
      "needs_background": "light"
     },
     "output_type": "display_data"
    }
   ],
   "source": [
    "sns.scatterplot(x = 'life expectancy', y='infant mortality', data = df, color = 'lime', s = 2)\n",
    "plt.xlabel('esperanza de vida')\n",
    "plt.ylabel('mortalidad infantil')\n",
    "plt.title('Relación entre la esperanza de vida y la mortalidad infantil');"
   ]
  },
  {
   "cell_type": "markdown",
   "metadata": {},
   "source": [
    "Según los datos obtenidos, observamos que cuanto más alta es la esperanza de vida, es menor la mortalidad infantil. "
   ]
  },
  {
   "cell_type": "markdown",
   "metadata": {},
   "source": [
    "¿Cuál es el continente con la mayor cantidad de países en el conjunto de datos? Proporciona el porcentaje de países en ese continente."
   ]
  },
  {
   "cell_type": "code",
   "execution_count": null,
   "metadata": {},
   "outputs": [],
   "source": []
  },
  {
   "cell_type": "code",
   "execution_count": 22,
   "metadata": {},
   "outputs": [
    {
     "data": {
      "image/png": "[encoded data removed]",
      "text/plain": [
       "<Figure size 432x288 with 1 Axes>"
      ]
     },
     "metadata": {
      "needs_background": "light"
     },
     "output_type": "display_data"
    }
   ],
   "source": [
    "sns.histplot(y='continente', data = df, bins=30, color='yellow')\n",
    "plt.ylabel('contientes')\n",
    "plt.xlabel('recuento de países')\n",
    "plt.title('Continente con más países en los datos');"
   ]
  },
  {
   "cell_type": "code",
   "execution_count": 29,
   "metadata": {},
   "outputs": [
    {
     "data": {
      "text/html": [
       "<div>\n",
       "<style scoped>\n",
       "    .dataframe tbody tr th:only-of-type {\n",
       "        vertical-align: middle;\n",
       "    }\n",
       "\n",
       "    .dataframe tbody tr th {\n",
       "        vertical-align: top;\n",
       "    }\n",
       "\n",
       "    .dataframe thead th {\n",
       "        text-align: right;\n",
       "    }\n",
       "</style>\n",
       "<table border=\"1\" class=\"dataframe\">\n",
       "  <thead>\n",
       "    <tr style=\"text-align: right;\">\n",
       "      <th></th>\n",
       "      <th>continente</th>\n",
       "      <th>unnamed 0_x</th>\n",
       "    </tr>\n",
       "  </thead>\n",
       "  <tbody>\n",
       "    <tr>\n",
       "      <th>0</th>\n",
       "      <td>Africa</td>\n",
       "      <td>15</td>\n",
       "    </tr>\n",
       "    <tr>\n",
       "      <th>1</th>\n",
       "      <td>América del Norte</td>\n",
       "      <td>21</td>\n",
       "    </tr>\n",
       "    <tr>\n",
       "      <th>2</th>\n",
       "      <td>América del Sur</td>\n",
       "      <td>12</td>\n",
       "    </tr>\n",
       "    <tr>\n",
       "      <th>3</th>\n",
       "      <td>Asia</td>\n",
       "      <td>43</td>\n",
       "    </tr>\n",
       "    <tr>\n",
       "      <th>4</th>\n",
       "      <td>Europa</td>\n",
       "      <td>42</td>\n",
       "    </tr>\n",
       "    <tr>\n",
       "      <th>5</th>\n",
       "      <td>Oceanía</td>\n",
       "      <td>13</td>\n",
       "    </tr>\n",
       "    <tr>\n",
       "      <th>6</th>\n",
       "      <td>África</td>\n",
       "      <td>49</td>\n",
       "    </tr>\n",
       "  </tbody>\n",
       "</table>\n",
       "</div>"
      ],
      "text/plain": [
       "          continente  unnamed 0_x\n",
       "0             Africa           15\n",
       "1  América del Norte           21\n",
       "2    América del Sur           12\n",
       "3               Asia           43\n",
       "4             Europa           42\n",
       "5            Oceanía           13\n",
       "6             África           49"
      ]
     },
     "execution_count": 29,
     "metadata": {},
     "output_type": "execute_result"
    }
   ],
   "source": [
    "df_continente = df.groupby(\"continente\")[\"unnamed 0_x\"].count().reset_index()\n",
    "df_continente"
   ]
  },
  {
   "cell_type": "markdown",
   "metadata": {},
   "source": [
    "df_contiente = df.groupby(\"education\")[\"id\"].count().reset_index()"
   ]
  },
  {
   "cell_type": "code",
   "execution_count": 34,
   "metadata": {},
   "outputs": [
    {
     "data": {
      "image/png": "[encoded data removed]",
      "text/plain": [
       "<Figure size 432x288 with 1 Axes>"
      ]
     },
     "metadata": {},
     "output_type": "display_data"
    }
   ],
   "source": [
    "colores = [\"cadetblue\", \"mediumseagreen\", \"seagreen\", \"teal\", \"turquoise\", \"lightseagreen\"]\n",
    "\n",
    "plt.pie(\"unnamed 0_x\", labels= \"continente\",\n",
    "        data = df_continente, \n",
    "        autopct=  '%1.1f%%', \n",
    "        colors = colores, \n",
    "        textprops={'fontsize': 8}, \n",
    "        startangle=90);"
   ]
  }
 ],
 "metadata": {
  "kernelspec": {
   "display_name": "base",
   "language": "python",
   "name": "python3"
  },
  "language_info": {
   "codemirror_mode": {
    "name": "ipython",
    "version": 3
   },
   "file_extension": ".py",
   "mimetype": "text/x-python",
   "name": "python",
   "nbconvert_exporter": "python",
   "pygments_lexer": "ipython3",
   "version": "3.9.7"
  }
 },
 "nbformat": 4,
 "nbformat_minor": 2
}
