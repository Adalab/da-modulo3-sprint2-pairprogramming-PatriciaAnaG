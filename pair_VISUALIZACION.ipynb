{
 "cells": [
  {
   "cell_type": "code",
   "execution_count": 1,
   "metadata": {},
   "outputs": [],
   "source": [
    "import matplotlib.pyplot as plt\n",
    "import seaborn as sns\n"
   ]
  },
  {
   "cell_type": "code",
   "execution_count": 2,
   "metadata": {},
   "outputs": [],
   "source": [
    "import pandas as pd\n",
    "import numpy as np"
   ]
  },
  {
   "cell_type": "code",
   "execution_count": 3,
   "metadata": {},
   "outputs": [
    {
     "data": {
      "text/html": [
       "<div>\n",
       "<style scoped>\n",
       "    .dataframe tbody tr th:only-of-type {\n",
       "        vertical-align: middle;\n",
       "    }\n",
       "\n",
       "    .dataframe tbody tr th {\n",
       "        vertical-align: top;\n",
       "    }\n",
       "\n",
       "    .dataframe thead th {\n",
       "        text-align: right;\n",
       "    }\n",
       "</style>\n",
       "<table border=\"1\" class=\"dataframe\">\n",
       "  <thead>\n",
       "    <tr style=\"text-align: right;\">\n",
       "      <th></th>\n",
       "      <th>Unnamed: 0</th>\n",
       "      <th>country</th>\n",
       "      <th>density</th>\n",
       "      <th>abbreviation</th>\n",
       "      <th>agricultural_land(_%)</th>\n",
       "      <th>land_area</th>\n",
       "      <th>armed_forces_size</th>\n",
       "      <th>calling_code</th>\n",
       "      <th>capital/major_city</th>\n",
       "      <th>cpi</th>\n",
       "      <th>cpi_change_</th>\n",
       "      <th>currency-code</th>\n",
       "      <th>forested_area_</th>\n",
       "      <th>gasoline_price</th>\n",
       "      <th>gdp</th>\n",
       "      <th>gross_primary_education_enrollment_</th>\n",
       "      <th>gross_tertiary_education_enrollment_</th>\n",
       "      <th>largest_city</th>\n",
       "      <th>minimum_wage</th>\n",
       "      <th>official_language</th>\n",
       "      <th>out_of_pocket_health_expenditure</th>\n",
       "      <th>physicians_per_thousand</th>\n",
       "      <th>population</th>\n",
       "      <th>population_labor_force_participation_</th>\n",
       "      <th>tax_revenue_</th>\n",
       "      <th>total_tax_rate</th>\n",
       "      <th>unemployment_rate</th>\n",
       "      <th>urban_population</th>\n",
       "      <th>latitud</th>\n",
       "      <th>longitud</th>\n",
       "      <th>continent</th>\n",
       "      <th>birth_rate</th>\n",
       "      <th>co2-emissions</th>\n",
       "      <th>fertility_rate</th>\n",
       "      <th>infant_mortality</th>\n",
       "      <th>life_expectancy</th>\n",
       "      <th>maternal_mortality_ratio</th>\n",
       "    </tr>\n",
       "  </thead>\n",
       "  <tbody>\n",
       "    <tr>\n",
       "      <th>0</th>\n",
       "      <td>0</td>\n",
       "      <td>Afghanistan</td>\n",
       "      <td>60.0</td>\n",
       "      <td>AF</td>\n",
       "      <td>58.1</td>\n",
       "      <td>652.23</td>\n",
       "      <td>323.0</td>\n",
       "      <td>93.0</td>\n",
       "      <td>Kabul</td>\n",
       "      <td>149.9</td>\n",
       "      <td>2.3</td>\n",
       "      <td>AFN</td>\n",
       "      <td>2.1</td>\n",
       "      <td>0.7</td>\n",
       "      <td>19101353833.0</td>\n",
       "      <td>104.0</td>\n",
       "      <td>9.7</td>\n",
       "      <td>Kabul</td>\n",
       "      <td>0.43</td>\n",
       "      <td>Pashto</td>\n",
       "      <td>78.4</td>\n",
       "      <td>0.28</td>\n",
       "      <td>38041754.0</td>\n",
       "      <td>48.9</td>\n",
       "      <td>9.3</td>\n",
       "      <td>71.4</td>\n",
       "      <td>11.12</td>\n",
       "      <td>9797273.0</td>\n",
       "      <td>33.93911</td>\n",
       "      <td>67.709953</td>\n",
       "      <td>Asia</td>\n",
       "      <td>32.49</td>\n",
       "      <td>8.672</td>\n",
       "      <td>4.47</td>\n",
       "      <td>47.9</td>\n",
       "      <td>64.50</td>\n",
       "      <td>638.0</td>\n",
       "    </tr>\n",
       "    <tr>\n",
       "      <th>1</th>\n",
       "      <td>1</td>\n",
       "      <td>Albania</td>\n",
       "      <td>105.0</td>\n",
       "      <td>AL</td>\n",
       "      <td>43.1</td>\n",
       "      <td>28.748</td>\n",
       "      <td>9.0</td>\n",
       "      <td>355.0</td>\n",
       "      <td>Tirana</td>\n",
       "      <td>119.05</td>\n",
       "      <td>1.4</td>\n",
       "      <td>ALL</td>\n",
       "      <td>28.1</td>\n",
       "      <td>1.36</td>\n",
       "      <td>15278077447.0</td>\n",
       "      <td>107.0</td>\n",
       "      <td>55.0</td>\n",
       "      <td>Tirana</td>\n",
       "      <td>1.12</td>\n",
       "      <td>Albanian</td>\n",
       "      <td>56.9</td>\n",
       "      <td>1.2</td>\n",
       "      <td>2854191.0</td>\n",
       "      <td>55.7</td>\n",
       "      <td>18.6</td>\n",
       "      <td>36.6</td>\n",
       "      <td>12.33</td>\n",
       "      <td>1747593.0</td>\n",
       "      <td>41.153332</td>\n",
       "      <td>20.168331</td>\n",
       "      <td>Europe</td>\n",
       "      <td>11.78</td>\n",
       "      <td>4.536</td>\n",
       "      <td>1.62</td>\n",
       "      <td>7.8</td>\n",
       "      <td>78.50</td>\n",
       "      <td>15.0</td>\n",
       "    </tr>\n",
       "    <tr>\n",
       "      <th>2</th>\n",
       "      <td>2</td>\n",
       "      <td>Algeria</td>\n",
       "      <td>18.0</td>\n",
       "      <td>DZ</td>\n",
       "      <td>17.4</td>\n",
       "      <td>Unknown</td>\n",
       "      <td>317.0</td>\n",
       "      <td>213.0</td>\n",
       "      <td>Algiers</td>\n",
       "      <td>151.36</td>\n",
       "      <td>2.0</td>\n",
       "      <td>DZD</td>\n",
       "      <td>0.8</td>\n",
       "      <td>0.28</td>\n",
       "      <td>169988236398.0</td>\n",
       "      <td>109.9</td>\n",
       "      <td>51.4</td>\n",
       "      <td>Algiers</td>\n",
       "      <td>0.95</td>\n",
       "      <td>Arabic</td>\n",
       "      <td>28.1</td>\n",
       "      <td>1.72</td>\n",
       "      <td>43053054.0</td>\n",
       "      <td>41.2</td>\n",
       "      <td>37.2</td>\n",
       "      <td>66.1</td>\n",
       "      <td>11.7</td>\n",
       "      <td>31510100.0</td>\n",
       "      <td>28.033886</td>\n",
       "      <td>1.659626</td>\n",
       "      <td>Africa</td>\n",
       "      <td>24.28</td>\n",
       "      <td>150.006</td>\n",
       "      <td>3.02</td>\n",
       "      <td>20.1</td>\n",
       "      <td>76.70</td>\n",
       "      <td>112.0</td>\n",
       "    </tr>\n",
       "    <tr>\n",
       "      <th>3</th>\n",
       "      <td>3</td>\n",
       "      <td>Andorra</td>\n",
       "      <td>164.0</td>\n",
       "      <td>AD</td>\n",
       "      <td>40.0</td>\n",
       "      <td>468.0</td>\n",
       "      <td>Unknown</td>\n",
       "      <td>376.0</td>\n",
       "      <td>Andorra la Vella</td>\n",
       "      <td>Unknown</td>\n",
       "      <td>Unknown</td>\n",
       "      <td>EUR</td>\n",
       "      <td>34.0</td>\n",
       "      <td>1.51</td>\n",
       "      <td>3154057987.0</td>\n",
       "      <td>106.4</td>\n",
       "      <td>Unknown</td>\n",
       "      <td>Andorra la Vella</td>\n",
       "      <td>6.63</td>\n",
       "      <td>Catalan</td>\n",
       "      <td>36.4</td>\n",
       "      <td>3.33</td>\n",
       "      <td>77142.0</td>\n",
       "      <td>Unknown</td>\n",
       "      <td>Unknown</td>\n",
       "      <td>Unknown</td>\n",
       "      <td>Unknown</td>\n",
       "      <td>67873.0</td>\n",
       "      <td>42.506285</td>\n",
       "      <td>1.521801</td>\n",
       "      <td>Europe</td>\n",
       "      <td>7.20</td>\n",
       "      <td>469.000</td>\n",
       "      <td>1.27</td>\n",
       "      <td>2.7</td>\n",
       "      <td>79.56</td>\n",
       "      <td>26.0</td>\n",
       "    </tr>\n",
       "    <tr>\n",
       "      <th>4</th>\n",
       "      <td>4</td>\n",
       "      <td>Angola</td>\n",
       "      <td>26.0</td>\n",
       "      <td>AO</td>\n",
       "      <td>47.5</td>\n",
       "      <td>Unknown</td>\n",
       "      <td>117.0</td>\n",
       "      <td>244.0</td>\n",
       "      <td>Luanda</td>\n",
       "      <td>261.73</td>\n",
       "      <td>17.1</td>\n",
       "      <td>AOA</td>\n",
       "      <td>46.3</td>\n",
       "      <td>0.97</td>\n",
       "      <td>94635415870.0</td>\n",
       "      <td>113.5</td>\n",
       "      <td>9.3</td>\n",
       "      <td>Luanda</td>\n",
       "      <td>0.71</td>\n",
       "      <td>Portuguese</td>\n",
       "      <td>33.4</td>\n",
       "      <td>0.21</td>\n",
       "      <td>31825295.0</td>\n",
       "      <td>77.5</td>\n",
       "      <td>9.2</td>\n",
       "      <td>49.1</td>\n",
       "      <td>6.89</td>\n",
       "      <td>21061025.0</td>\n",
       "      <td>-11.202692</td>\n",
       "      <td>17.873887</td>\n",
       "      <td>Africa</td>\n",
       "      <td>40.73</td>\n",
       "      <td>34.693</td>\n",
       "      <td>5.52</td>\n",
       "      <td>51.6</td>\n",
       "      <td>60.80</td>\n",
       "      <td>241.0</td>\n",
       "    </tr>\n",
       "  </tbody>\n",
       "</table>\n",
       "</div>"
      ],
      "text/plain": [
       "   Unnamed: 0      country  density abbreviation agricultural_land(_%)  \\\n",
       "0           0  Afghanistan     60.0           AF                  58.1   \n",
       "1           1      Albania    105.0           AL                  43.1   \n",
       "2           2      Algeria     18.0           DZ                  17.4   \n",
       "3           3      Andorra    164.0           AD                  40.0   \n",
       "4           4       Angola     26.0           AO                  47.5   \n",
       "\n",
       "  land_area armed_forces_size calling_code capital/major_city      cpi  \\\n",
       "0    652.23             323.0         93.0              Kabul    149.9   \n",
       "1    28.748               9.0        355.0             Tirana   119.05   \n",
       "2   Unknown             317.0        213.0            Algiers   151.36   \n",
       "3     468.0           Unknown        376.0   Andorra la Vella  Unknown   \n",
       "4   Unknown             117.0        244.0             Luanda   261.73   \n",
       "\n",
       "  cpi_change_ currency-code forested_area_ gasoline_price             gdp  \\\n",
       "0         2.3           AFN            2.1            0.7   19101353833.0   \n",
       "1         1.4           ALL           28.1           1.36   15278077447.0   \n",
       "2         2.0           DZD            0.8           0.28  169988236398.0   \n",
       "3     Unknown           EUR           34.0           1.51    3154057987.0   \n",
       "4        17.1           AOA           46.3           0.97   94635415870.0   \n",
       "\n",
       "  gross_primary_education_enrollment_ gross_tertiary_education_enrollment_  \\\n",
       "0                               104.0                                  9.7   \n",
       "1                               107.0                                 55.0   \n",
       "2                               109.9                                 51.4   \n",
       "3                               106.4                              Unknown   \n",
       "4                               113.5                                  9.3   \n",
       "\n",
       "       largest_city minimum_wage official_language  \\\n",
       "0             Kabul         0.43            Pashto   \n",
       "1            Tirana         1.12          Albanian   \n",
       "2           Algiers         0.95            Arabic   \n",
       "3  Andorra la Vella         6.63           Catalan   \n",
       "4            Luanda         0.71        Portuguese   \n",
       "\n",
       "  out_of_pocket_health_expenditure physicians_per_thousand  population  \\\n",
       "0                             78.4                    0.28  38041754.0   \n",
       "1                             56.9                     1.2   2854191.0   \n",
       "2                             28.1                    1.72  43053054.0   \n",
       "3                             36.4                    3.33     77142.0   \n",
       "4                             33.4                    0.21  31825295.0   \n",
       "\n",
       "  population_labor_force_participation_ tax_revenue_ total_tax_rate  \\\n",
       "0                                  48.9          9.3           71.4   \n",
       "1                                  55.7         18.6           36.6   \n",
       "2                                  41.2         37.2           66.1   \n",
       "3                               Unknown      Unknown        Unknown   \n",
       "4                                  77.5          9.2           49.1   \n",
       "\n",
       "  unemployment_rate urban_population     latitud   longitud continent  \\\n",
       "0             11.12        9797273.0    33.93911  67.709953      Asia   \n",
       "1             12.33        1747593.0   41.153332  20.168331    Europe   \n",
       "2              11.7       31510100.0   28.033886   1.659626    Africa   \n",
       "3           Unknown          67873.0   42.506285   1.521801    Europe   \n",
       "4              6.89       21061025.0  -11.202692  17.873887    Africa   \n",
       "\n",
       "   birth_rate  co2-emissions  fertility_rate  infant_mortality  \\\n",
       "0       32.49          8.672            4.47              47.9   \n",
       "1       11.78          4.536            1.62               7.8   \n",
       "2       24.28        150.006            3.02              20.1   \n",
       "3        7.20        469.000            1.27               2.7   \n",
       "4       40.73         34.693            5.52              51.6   \n",
       "\n",
       "   life_expectancy  maternal_mortality_ratio  \n",
       "0            64.50                     638.0  \n",
       "1            78.50                      15.0  \n",
       "2            76.70                     112.0  \n",
       "3            79.56                      26.0  \n",
       "4            60.80                     241.0  "
      ]
     },
     "execution_count": 3,
     "metadata": {},
     "output_type": "execute_result"
    }
   ],
   "source": [
    "df = pd.read_csv('world_data_nonull.csv')\n",
    "\n",
    "pd.set_option('display.max_columns', None)\n",
    "\n",
    "df.head()"
   ]
  },
  {
   "cell_type": "markdown",
   "metadata": {},
   "source": [
    "¿Cómo se distribuye la tasa de natalidad en el conjunto de datos? ¿Hay algún patrón evidente?"
   ]
  },
  {
   "cell_type": "code",
   "execution_count": 4,
   "metadata": {},
   "outputs": [
    {
     "data": {
      "image/png": "[encoded data removed]",
      "text/plain": [
       "<Figure size 432x288 with 1 Axes>"
      ]
     },
     "metadata": {
      "needs_background": "light"
     },
     "output_type": "display_data"
    }
   ],
   "source": [
    "sns.histplot(x='birth_rate', data = df, bins=30, color='pink')\n",
    "plt.xlabel('tasa de natalidad')\n",
    "plt.ylabel('valores')\n",
    "plt.title('Distribución tasa de natalidad');\n"
   ]
  },
  {
   "cell_type": "markdown",
   "metadata": {},
   "source": [
    "La tasa de natalidad mayor está entre 10 y 12"
   ]
  },
  {
   "cell_type": "markdown",
   "metadata": {},
   "source": [
    "¿Existe una relación aparente entre la tasa de mortalidad infantil y la esperanza de vida? Proporciona una breve descripción de los patrones que observes."
   ]
  },
  {
   "cell_type": "code",
   "execution_count": 6,
   "metadata": {},
   "outputs": [
    {
     "data": {
      "image/png": "[encoded data removed]",
      "text/plain": [
       "<Figure size 432x288 with 1 Axes>"
      ]
     },
     "metadata": {
      "needs_background": "light"
     },
     "output_type": "display_data"
    }
   ],
   "source": [
    "sns.scatterplot(x = 'life_expectancy', y='infant_mortality', data = df, color = 'lime', s = 2)\n",
    "plt.xlabel('esperanza de vida')\n",
    "plt.ylabel('mortalidad infantil')\n",
    "plt.title('Relación entre la esperanza de vida y la mortalidad infantil');"
   ]
  },
  {
   "cell_type": "markdown",
   "metadata": {},
   "source": [
    "Según los datos obtenidos, observamos que cuanto más alta es la esperanza de vida, es menor la mortalidad infantil. "
   ]
  },
  {
   "cell_type": "markdown",
   "metadata": {},
   "source": [
    "¿Cuál es el continente con la mayor cantidad de países en el conjunto de datos? Proporciona el porcentaje de países en ese continente."
   ]
  },
  {
   "cell_type": "code",
   "execution_count": 7,
   "metadata": {},
   "outputs": [
    {
     "data": {
      "image/png": "[encoded data removed]",
      "text/plain": [
       "<Figure size 432x288 with 1 Axes>"
      ]
     },
     "metadata": {
      "needs_background": "light"
     },
     "output_type": "display_data"
    }
   ],
   "source": [
    "sns.histplot(y='continent', data = df, bins=30, color='yellow')\n",
    "plt.ylabel('contientes')\n",
    "plt.xlabel('recuento de países')\n",
    "plt.title('Continente con más países en los datos');"
   ]
  },
  {
   "cell_type": "code",
   "execution_count": 8,
   "metadata": {},
   "outputs": [
    {
     "data": {
      "text/html": [
       "<div>\n",
       "<style scoped>\n",
       "    .dataframe tbody tr th:only-of-type {\n",
       "        vertical-align: middle;\n",
       "    }\n",
       "\n",
       "    .dataframe tbody tr th {\n",
       "        vertical-align: top;\n",
       "    }\n",
       "\n",
       "    .dataframe thead th {\n",
       "        text-align: right;\n",
       "    }\n",
       "</style>\n",
       "<table border=\"1\" class=\"dataframe\">\n",
       "  <thead>\n",
       "    <tr style=\"text-align: right;\">\n",
       "      <th></th>\n",
       "      <th>continent</th>\n",
       "      <th>Unnamed: 0</th>\n",
       "    </tr>\n",
       "  </thead>\n",
       "  <tbody>\n",
       "    <tr>\n",
       "      <th>0</th>\n",
       "      <td>Africa</td>\n",
       "      <td>55</td>\n",
       "    </tr>\n",
       "    <tr>\n",
       "      <th>1</th>\n",
       "      <td>Asia</td>\n",
       "      <td>48</td>\n",
       "    </tr>\n",
       "    <tr>\n",
       "      <th>2</th>\n",
       "      <td>Europe</td>\n",
       "      <td>44</td>\n",
       "    </tr>\n",
       "    <tr>\n",
       "      <th>3</th>\n",
       "      <td>North America</td>\n",
       "      <td>18</td>\n",
       "    </tr>\n",
       "    <tr>\n",
       "      <th>4</th>\n",
       "      <td>Oceania</td>\n",
       "      <td>12</td>\n",
       "    </tr>\n",
       "    <tr>\n",
       "      <th>5</th>\n",
       "      <td>South America</td>\n",
       "      <td>12</td>\n",
       "    </tr>\n",
       "    <tr>\n",
       "      <th>6</th>\n",
       "      <td>Unknown</td>\n",
       "      <td>6</td>\n",
       "    </tr>\n",
       "  </tbody>\n",
       "</table>\n",
       "</div>"
      ],
      "text/plain": [
       "       continent  Unnamed: 0\n",
       "0         Africa          55\n",
       "1           Asia          48\n",
       "2         Europe          44\n",
       "3  North America          18\n",
       "4        Oceania          12\n",
       "5  South America          12\n",
       "6        Unknown           6"
      ]
     },
     "execution_count": 8,
     "metadata": {},
     "output_type": "execute_result"
    }
   ],
   "source": [
    "df_continente = df.groupby(\"continent\")[\"Unnamed: 0\"].count().reset_index()\n",
    "df_continente"
   ]
  },
  {
   "cell_type": "code",
   "execution_count": 10,
   "metadata": {},
   "outputs": [
    {
     "data": {
      "text/plain": [
       "Text(0.5, 1.0, 'Continente con mayor cantidad de paises en porcentaje')"
      ]
     },
     "execution_count": 10,
     "metadata": {},
     "output_type": "execute_result"
    },
    {
     "data": {
      "image/png": "[encoded data removed]",
      "text/plain": [
       "<Figure size 432x288 with 1 Axes>"
      ]
     },
     "metadata": {},
     "output_type": "display_data"
    }
   ],
   "source": [
    "colores = [\"cadetblue\", \"mediumseagreen\", \"seagreen\", \"teal\", \"turquoise\", \"lightseagreen\"]\n",
    "\n",
    "plt.pie(\"Unnamed: 0\", labels= \"continent\",\n",
    "        data = df_continente, \n",
    "        autopct=  '%1.1f%%', \n",
    "        colors = colores, \n",
    "        textprops={'fontsize': 8}, \n",
    "        startangle=90);\n",
    "\n",
    "plt.title('Continente con mayor cantidad de paises en porcentaje')"
   ]
  },
  {
   "cell_type": "markdown",
   "metadata": {},
   "source": [
    "¿Cuál es la mediana de la esperanza de vida en Europa? Proporciona un rango intercuartil aproximado y verifica si existen valores atípicos."
   ]
  },
  {
   "cell_type": "code",
   "execution_count": 11,
   "metadata": {},
   "outputs": [
    {
     "data": {
      "text/html": [
       "<div>\n",
       "<style scoped>\n",
       "    .dataframe tbody tr th:only-of-type {\n",
       "        vertical-align: middle;\n",
       "    }\n",
       "\n",
       "    .dataframe tbody tr th {\n",
       "        vertical-align: top;\n",
       "    }\n",
       "\n",
       "    .dataframe thead th {\n",
       "        text-align: right;\n",
       "    }\n",
       "</style>\n",
       "<table border=\"1\" class=\"dataframe\">\n",
       "  <thead>\n",
       "    <tr style=\"text-align: right;\">\n",
       "      <th></th>\n",
       "      <th>Unnamed: 0</th>\n",
       "      <th>country</th>\n",
       "      <th>density</th>\n",
       "      <th>abbreviation</th>\n",
       "      <th>agricultural_land(_%)</th>\n",
       "      <th>land_area</th>\n",
       "      <th>armed_forces_size</th>\n",
       "      <th>calling_code</th>\n",
       "      <th>capital/major_city</th>\n",
       "      <th>cpi</th>\n",
       "      <th>cpi_change_</th>\n",
       "      <th>currency-code</th>\n",
       "      <th>forested_area_</th>\n",
       "      <th>gasoline_price</th>\n",
       "      <th>gdp</th>\n",
       "      <th>gross_primary_education_enrollment_</th>\n",
       "      <th>gross_tertiary_education_enrollment_</th>\n",
       "      <th>largest_city</th>\n",
       "      <th>minimum_wage</th>\n",
       "      <th>official_language</th>\n",
       "      <th>out_of_pocket_health_expenditure</th>\n",
       "      <th>physicians_per_thousand</th>\n",
       "      <th>population</th>\n",
       "      <th>population_labor_force_participation_</th>\n",
       "      <th>tax_revenue_</th>\n",
       "      <th>total_tax_rate</th>\n",
       "      <th>unemployment_rate</th>\n",
       "      <th>urban_population</th>\n",
       "      <th>latitud</th>\n",
       "      <th>longitud</th>\n",
       "      <th>continent</th>\n",
       "      <th>birth_rate</th>\n",
       "      <th>co2-emissions</th>\n",
       "      <th>fertility_rate</th>\n",
       "      <th>infant_mortality</th>\n",
       "      <th>life_expectancy</th>\n",
       "      <th>maternal_mortality_ratio</th>\n",
       "    </tr>\n",
       "  </thead>\n",
       "  <tbody>\n",
       "    <tr>\n",
       "      <th>1</th>\n",
       "      <td>1</td>\n",
       "      <td>Albania</td>\n",
       "      <td>105.0</td>\n",
       "      <td>AL</td>\n",
       "      <td>43.1</td>\n",
       "      <td>28.748</td>\n",
       "      <td>9.0</td>\n",
       "      <td>355.0</td>\n",
       "      <td>Tirana</td>\n",
       "      <td>119.05</td>\n",
       "      <td>1.4</td>\n",
       "      <td>ALL</td>\n",
       "      <td>28.1</td>\n",
       "      <td>1.36</td>\n",
       "      <td>15278077447.0</td>\n",
       "      <td>107.0</td>\n",
       "      <td>55.0</td>\n",
       "      <td>Tirana</td>\n",
       "      <td>1.12</td>\n",
       "      <td>Albanian</td>\n",
       "      <td>56.9</td>\n",
       "      <td>1.2</td>\n",
       "      <td>2854191.0</td>\n",
       "      <td>55.7</td>\n",
       "      <td>18.6</td>\n",
       "      <td>36.6</td>\n",
       "      <td>12.33</td>\n",
       "      <td>1747593.0</td>\n",
       "      <td>41.153332</td>\n",
       "      <td>20.168331</td>\n",
       "      <td>Europe</td>\n",
       "      <td>11.78</td>\n",
       "      <td>4.536</td>\n",
       "      <td>1.62</td>\n",
       "      <td>7.8</td>\n",
       "      <td>78.50</td>\n",
       "      <td>15.0</td>\n",
       "    </tr>\n",
       "    <tr>\n",
       "      <th>3</th>\n",
       "      <td>3</td>\n",
       "      <td>Andorra</td>\n",
       "      <td>164.0</td>\n",
       "      <td>AD</td>\n",
       "      <td>40.0</td>\n",
       "      <td>468.0</td>\n",
       "      <td>Unknown</td>\n",
       "      <td>376.0</td>\n",
       "      <td>Andorra la Vella</td>\n",
       "      <td>Unknown</td>\n",
       "      <td>Unknown</td>\n",
       "      <td>EUR</td>\n",
       "      <td>34.0</td>\n",
       "      <td>1.51</td>\n",
       "      <td>3154057987.0</td>\n",
       "      <td>106.4</td>\n",
       "      <td>Unknown</td>\n",
       "      <td>Andorra la Vella</td>\n",
       "      <td>6.63</td>\n",
       "      <td>Catalan</td>\n",
       "      <td>36.4</td>\n",
       "      <td>3.33</td>\n",
       "      <td>77142.0</td>\n",
       "      <td>Unknown</td>\n",
       "      <td>Unknown</td>\n",
       "      <td>Unknown</td>\n",
       "      <td>Unknown</td>\n",
       "      <td>67873.0</td>\n",
       "      <td>42.506285</td>\n",
       "      <td>1.521801</td>\n",
       "      <td>Europe</td>\n",
       "      <td>7.20</td>\n",
       "      <td>469.000</td>\n",
       "      <td>1.27</td>\n",
       "      <td>2.7</td>\n",
       "      <td>79.56</td>\n",
       "      <td>26.0</td>\n",
       "    </tr>\n",
       "    <tr>\n",
       "      <th>9</th>\n",
       "      <td>9</td>\n",
       "      <td>Austria</td>\n",
       "      <td>109.0</td>\n",
       "      <td>AT</td>\n",
       "      <td>32.4</td>\n",
       "      <td>83.871</td>\n",
       "      <td>21.0</td>\n",
       "      <td>43.0</td>\n",
       "      <td>Vienna</td>\n",
       "      <td>118.06</td>\n",
       "      <td>1.5</td>\n",
       "      <td>EUR</td>\n",
       "      <td>46.9</td>\n",
       "      <td>1.2</td>\n",
       "      <td>446314739528.0</td>\n",
       "      <td>103.1</td>\n",
       "      <td>85.1</td>\n",
       "      <td>Vienna</td>\n",
       "      <td>Unknown</td>\n",
       "      <td>German</td>\n",
       "      <td>17.9</td>\n",
       "      <td>5.17</td>\n",
       "      <td>8877067.0</td>\n",
       "      <td>60.7</td>\n",
       "      <td>25.4</td>\n",
       "      <td>51.4</td>\n",
       "      <td>4.67</td>\n",
       "      <td>5194416.0</td>\n",
       "      <td>47.516231</td>\n",
       "      <td>14.550072</td>\n",
       "      <td>Europe</td>\n",
       "      <td>9.70</td>\n",
       "      <td>61.448</td>\n",
       "      <td>1.47</td>\n",
       "      <td>2.9</td>\n",
       "      <td>81.60</td>\n",
       "      <td>5.0</td>\n",
       "    </tr>\n",
       "    <tr>\n",
       "      <th>15</th>\n",
       "      <td>15</td>\n",
       "      <td>Belarus</td>\n",
       "      <td>47.0</td>\n",
       "      <td>BY</td>\n",
       "      <td>42.0</td>\n",
       "      <td>207.6</td>\n",
       "      <td>155.0</td>\n",
       "      <td>375.0</td>\n",
       "      <td>Minsk</td>\n",
       "      <td>Unknown</td>\n",
       "      <td>5.6</td>\n",
       "      <td>BYN</td>\n",
       "      <td>42.6</td>\n",
       "      <td>0.6</td>\n",
       "      <td>63080457023.0</td>\n",
       "      <td>100.5</td>\n",
       "      <td>87.4</td>\n",
       "      <td>Minsk</td>\n",
       "      <td>1.49</td>\n",
       "      <td>Russian</td>\n",
       "      <td>34.5</td>\n",
       "      <td>5.19</td>\n",
       "      <td>9466856.0</td>\n",
       "      <td>64.1</td>\n",
       "      <td>14.7</td>\n",
       "      <td>53.3</td>\n",
       "      <td>4.59</td>\n",
       "      <td>7482982.0</td>\n",
       "      <td>53.709807</td>\n",
       "      <td>27.953389</td>\n",
       "      <td>Europe</td>\n",
       "      <td>9.90</td>\n",
       "      <td>58.280</td>\n",
       "      <td>1.45</td>\n",
       "      <td>2.6</td>\n",
       "      <td>74.20</td>\n",
       "      <td>2.0</td>\n",
       "    </tr>\n",
       "    <tr>\n",
       "      <th>16</th>\n",
       "      <td>16</td>\n",
       "      <td>Belgium</td>\n",
       "      <td>383.0</td>\n",
       "      <td>BE</td>\n",
       "      <td>44.6</td>\n",
       "      <td>30.528</td>\n",
       "      <td>32.0</td>\n",
       "      <td>32.0</td>\n",
       "      <td>City of Brussels</td>\n",
       "      <td>117.11</td>\n",
       "      <td>1.4</td>\n",
       "      <td>EUR</td>\n",
       "      <td>22.6</td>\n",
       "      <td>1.43</td>\n",
       "      <td>529606710418.0</td>\n",
       "      <td>103.9</td>\n",
       "      <td>79.7</td>\n",
       "      <td>Brussels</td>\n",
       "      <td>10.31</td>\n",
       "      <td>French</td>\n",
       "      <td>17.6</td>\n",
       "      <td>3.07</td>\n",
       "      <td>11484055.0</td>\n",
       "      <td>53.6</td>\n",
       "      <td>24.0</td>\n",
       "      <td>55.4</td>\n",
       "      <td>5.59</td>\n",
       "      <td>11259082.0</td>\n",
       "      <td>50.503887</td>\n",
       "      <td>4.469936</td>\n",
       "      <td>Europe</td>\n",
       "      <td>10.30</td>\n",
       "      <td>96.889</td>\n",
       "      <td>1.62</td>\n",
       "      <td>2.9</td>\n",
       "      <td>81.60</td>\n",
       "      <td>5.0</td>\n",
       "    </tr>\n",
       "  </tbody>\n",
       "</table>\n",
       "</div>"
      ],
      "text/plain": [
       "    Unnamed: 0  country  density abbreviation agricultural_land(_%) land_area  \\\n",
       "1            1  Albania    105.0           AL                  43.1    28.748   \n",
       "3            3  Andorra    164.0           AD                  40.0     468.0   \n",
       "9            9  Austria    109.0           AT                  32.4    83.871   \n",
       "15          15  Belarus     47.0           BY                  42.0     207.6   \n",
       "16          16  Belgium    383.0           BE                  44.6    30.528   \n",
       "\n",
       "   armed_forces_size calling_code capital/major_city      cpi cpi_change_  \\\n",
       "1                9.0        355.0             Tirana   119.05         1.4   \n",
       "3            Unknown        376.0   Andorra la Vella  Unknown     Unknown   \n",
       "9               21.0         43.0             Vienna   118.06         1.5   \n",
       "15             155.0        375.0              Minsk  Unknown         5.6   \n",
       "16              32.0         32.0   City of Brussels   117.11         1.4   \n",
       "\n",
       "   currency-code forested_area_ gasoline_price             gdp  \\\n",
       "1            ALL           28.1           1.36   15278077447.0   \n",
       "3            EUR           34.0           1.51    3154057987.0   \n",
       "9            EUR           46.9            1.2  446314739528.0   \n",
       "15           BYN           42.6            0.6   63080457023.0   \n",
       "16           EUR           22.6           1.43  529606710418.0   \n",
       "\n",
       "   gross_primary_education_enrollment_ gross_tertiary_education_enrollment_  \\\n",
       "1                                107.0                                 55.0   \n",
       "3                                106.4                              Unknown   \n",
       "9                                103.1                                 85.1   \n",
       "15                               100.5                                 87.4   \n",
       "16                               103.9                                 79.7   \n",
       "\n",
       "        largest_city minimum_wage official_language  \\\n",
       "1             Tirana         1.12          Albanian   \n",
       "3   Andorra la Vella         6.63           Catalan   \n",
       "9             Vienna      Unknown            German   \n",
       "15             Minsk         1.49           Russian   \n",
       "16          Brussels        10.31            French   \n",
       "\n",
       "   out_of_pocket_health_expenditure physicians_per_thousand  population  \\\n",
       "1                              56.9                     1.2   2854191.0   \n",
       "3                              36.4                    3.33     77142.0   \n",
       "9                              17.9                    5.17   8877067.0   \n",
       "15                             34.5                    5.19   9466856.0   \n",
       "16                             17.6                    3.07  11484055.0   \n",
       "\n",
       "   population_labor_force_participation_ tax_revenue_ total_tax_rate  \\\n",
       "1                                   55.7         18.6           36.6   \n",
       "3                                Unknown      Unknown        Unknown   \n",
       "9                                   60.7         25.4           51.4   \n",
       "15                                  64.1         14.7           53.3   \n",
       "16                                  53.6         24.0           55.4   \n",
       "\n",
       "   unemployment_rate urban_population    latitud   longitud continent  \\\n",
       "1              12.33        1747593.0  41.153332  20.168331    Europe   \n",
       "3            Unknown          67873.0  42.506285   1.521801    Europe   \n",
       "9               4.67        5194416.0  47.516231  14.550072    Europe   \n",
       "15              4.59        7482982.0  53.709807  27.953389    Europe   \n",
       "16              5.59       11259082.0  50.503887   4.469936    Europe   \n",
       "\n",
       "    birth_rate  co2-emissions  fertility_rate  infant_mortality  \\\n",
       "1        11.78          4.536            1.62               7.8   \n",
       "3         7.20        469.000            1.27               2.7   \n",
       "9         9.70         61.448            1.47               2.9   \n",
       "15        9.90         58.280            1.45               2.6   \n",
       "16       10.30         96.889            1.62               2.9   \n",
       "\n",
       "    life_expectancy  maternal_mortality_ratio  \n",
       "1             78.50                      15.0  \n",
       "3             79.56                      26.0  \n",
       "9             81.60                       5.0  \n",
       "15            74.20                       2.0  \n",
       "16            81.60                       5.0  "
      ]
     },
     "execution_count": 11,
     "metadata": {},
     "output_type": "execute_result"
    }
   ],
   "source": [
    "europe = df['continent'] == 'Europe'\n",
    "df_europe = df[europe]\n",
    "df_europe.head()"
   ]
  },
  {
   "cell_type": "code",
   "execution_count": 12,
   "metadata": {},
   "outputs": [
    {
     "data": {
      "text/plain": [
       "Text(0.5, 1.0, 'Datos esperanza de vida')"
      ]
     },
     "execution_count": 12,
     "metadata": {},
     "output_type": "execute_result"
    },
    {
     "data": {
      "image/png": "[encoded data removed]",
      "text/plain": [
       "<Figure size 432x288 with 1 Axes>"
      ]
     },
     "metadata": {
      "needs_background": "light"
     },
     "output_type": "display_data"
    }
   ],
   "source": [
    "sns.boxplot(data=df_europe, x='life_expectancy')\n",
    "plt.xlabel('Esperanza de vida')\n",
    "plt.title('Datos esperanza de vida')"
   ]
  },
  {
   "cell_type": "markdown",
   "metadata": {},
   "source": [
    "- No existen valores atipicos.\n",
    "- La mediana se encuentra entorno al 81."
   ]
  },
  {
   "cell_type": "markdown",
   "metadata": {},
   "source": [
    "¿Existen relaciones visibles entre la tasa de natalidad y las siguientes variables: tasa de mortalidad infantil, esperanza de vida, densidad de población y población urbana? Usa un subplot. Describe cualquier patrón que encuentres."
   ]
  },
  {
   "cell_type": "code",
   "execution_count": 14,
   "metadata": {},
   "outputs": [],
   "source": [
    "df['urban_population'] = pd.to_numeric(df['urban_population'], errors='coerce')"
   ]
  },
  {
   "cell_type": "code",
   "execution_count": 15,
   "metadata": {},
   "outputs": [
    {
     "data": {
      "text/plain": [
       "''"
      ]
     },
     "execution_count": 15,
     "metadata": {},
     "output_type": "execute_result"
    },
    {
     "data": {
      "image/png": "[encoded data removed]",
      "text/plain": [
       "<Figure size 2880x360 with 4 Axes>"
      ]
     },
     "metadata": {
      "needs_background": "light"
     },
     "output_type": "display_data"
    }
   ],
   "source": [
    "\n",
    "fig, axes = plt.subplots(nrows = 1, ncols = 4, figsize = (40, 5))\n",
    "\n",
    "#TASA NATALIDADD Y MORTALIDAD INFANTIL\n",
    "sns.regplot(x = \"birth_rate\", y = \"infant_mortality\", data = df, \n",
    "            marker = \"d\", \n",
    "            line_kws = {\"color\": \"black\", \"linewidth\": 1}, \n",
    "            scatter_kws = {\"color\": \"teal\", \"s\": 1}, \n",
    "            ax = axes[0]  \n",
    "            )\n",
    "\n",
    "axes[0].set_title(\"Relación entre la mortalidad infantil y la tase de natalidad\") \n",
    "axes[0].set_xlabel(\"Tasa de natalidad\")\n",
    "axes[0].set_ylabel(\"Mortalidad infantil\")\n",
    "axes[0].spines['right'].set_visible(False)\n",
    "axes[0].spines['top'].set_visible(False)\n",
    "\n",
    "#TASA NATALIDAD Y ESPERANZA DE VIDA\n",
    "sns.regplot(x = \"birth_rate\", y = \"life_expectancy\", data = df, \n",
    "                 marker = \"d\", \n",
    "                line_kws = {\"color\": \"black\", \"linewidth\": 1}, \n",
    "                scatter_kws = {\"color\": \"teal\", \"s\": 1}, \n",
    "                ax = axes[1] )\n",
    "\n",
    "\n",
    "axes[1].set_title(\"Relación entre la tasa de natalidad y la esperanza de vida\")\n",
    "axes[1].set_xlabel(\"Tasa natalidad\")\n",
    "axes[1].set_ylabel(\"esperanza de vida\")\n",
    "axes[1].spines['right'].set_visible(False)\n",
    "axes[1].spines['top'].set_visible(False)\n",
    "\n",
    "#TASA NATALIDAD Y DENSIDAD\n",
    "\n",
    "sns.regplot(x = \"birth_rate\", y = \"density\", data = df, \n",
    "                 marker = \"d\", \n",
    "                line_kws = {\"color\": \"black\", \"linewidth\": 1}, \n",
    "                scatter_kws = {\"color\": \"teal\", \"s\": 1}, \n",
    "                ax = axes[2] )\n",
    "\n",
    "\n",
    "axes[2].set_title(\"Relación entre la tasa de natalidad y la densidad de población\")\n",
    "axes[2].set_xlabel(\"Tasa natalidad\")\n",
    "axes[2].set_ylabel(\"Densidad\")\n",
    "axes[2].spines['right'].set_visible(False)\n",
    "axes[2].spines['top'].set_visible(False)\n",
    "\n",
    "\n",
    "#TASA NATALIDAD Y DENSIDAD\n",
    "\n",
    "sns.regplot(x = \"birth_rate\", y = \"urban_population\", data = df, \n",
    "                 marker = \"d\", \n",
    "                line_kws = {\"color\": \"black\", \"linewidth\": 1}, \n",
    "                scatter_kws = {\"color\": \"teal\", \"s\": 1}, \n",
    "                ax = axes[3] )\n",
    "\n",
    "\n",
    "axes[3].set_title(\"Relación entre la tasa de natalidad y población urbana\")\n",
    "axes[3].set_xlabel(\"Tasa natalidad\")\n",
    "axes[3].set_ylabel(\"Población urbana\")\n",
    "axes[3].spines['right'].set_visible(False)\n",
    "axes[3].spines['top'].set_visible(False)\n",
    ";\n",
    ";\n"
   ]
  },
  {
   "cell_type": "markdown",
   "metadata": {},
   "source": [
    "¿Cuáles son los 10 países con la mayor área forestal?"
   ]
  },
  {
   "cell_type": "code",
   "execution_count": 17,
   "metadata": {},
   "outputs": [],
   "source": [
    "df['forested_area_'] = pd.to_numeric(df['forested_area_'], errors='coerce')"
   ]
  },
  {
   "cell_type": "code",
   "execution_count": 18,
   "metadata": {},
   "outputs": [
    {
     "data": {
      "text/plain": [
       "Text(0.5, 1.0, 'Los 10 países con mayor área forestal')"
      ]
     },
     "execution_count": 18,
     "metadata": {},
     "output_type": "execute_result"
    },
    {
     "data": {
      "image/png": "[encoded data removed]",
      "text/plain": [
       "<Figure size 432x288 with 1 Axes>"
      ]
     },
     "metadata": {
      "needs_background": "light"
     },
     "output_type": "display_data"
    }
   ],
   "source": [
    "df_forestal =df.sort_values(by =[\"forested_area_\"], ascending=False).head(10)\n",
    "sns.barplot(data =df_forestal, x=\"forested_area_\", y=\"country\")\n",
    "plt.xlabel('área forestal')\n",
    "plt.ylabel('Países')\n",
    "plt.title('Los 10 países con mayor área forestal')"
   ]
  },
  {
   "cell_type": "markdown",
   "metadata": {},
   "source": [
    "¿Existen diferencias notables en la distribución de la tasa de natalidad entre continentes?"
   ]
  },
  {
   "cell_type": "code",
   "execution_count": 19,
   "metadata": {},
   "outputs": [
    {
     "data": {
      "text/plain": [
       "<AxesSubplot:xlabel='birth_rate', ylabel='continent'>"
      ]
     },
     "execution_count": 19,
     "metadata": {},
     "output_type": "execute_result"
    },
    {
     "data": {
      "image/png": "[encoded data removed]",
      "text/plain": [
       "<Figure size 432x288 with 1 Axes>"
      ]
     },
     "metadata": {
      "needs_background": "light"
     },
     "output_type": "display_data"
    }
   ],
   "source": [
    "df_natalidad=df.sort_values(by =[\"birth_rate\"], ascending=False)\n",
    "sns.barplot(data =df_natalidad, x=\"birth_rate\", y=\"continent\")"
   ]
  }
 ],
 "metadata": {
  "kernelspec": {
   "display_name": "base",
   "language": "python",
   "name": "python3"
  },
  "language_info": {
   "codemirror_mode": {
    "name": "ipython",
    "version": 3
   },
   "file_extension": ".py",
   "mimetype": "text/x-python",
   "name": "python",
   "nbconvert_exporter": "python",
   "pygments_lexer": "ipython3",
   "version": "3.9.7"
  }
 },
 "nbformat": 4,
 "nbformat_minor": 2
}
